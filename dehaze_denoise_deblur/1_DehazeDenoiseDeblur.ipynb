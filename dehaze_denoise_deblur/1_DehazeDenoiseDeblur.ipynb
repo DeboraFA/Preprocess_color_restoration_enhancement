{
 "cells": [
  {
   "cell_type": "code",
   "execution_count": null,
   "id": "93ee7c81",
   "metadata": {},
   "outputs": [],
   "source": [
    "import os\n",
    "import cv2\n",
    "import glob\n",
    "import matplotlib.pyplot as plt\n",
    "\n",
    "\n",
    "from ESRGAN import esrgan_main # dehazing\n",
    "from LIME_CLI import LIME_main # dehazing\n",
    "from LLIE import LLIE_main # dehazing\n",
    "from SwinIR import SwinIR_main # denoising\n",
    "from GFPGAN import gfpgan_main # denoising\n",
    "from deblur_image import deblur # debluring"
   ]
  },
  {
   "cell_type": "code",
   "execution_count": null,
   "id": "6228f847",
   "metadata": {},
   "outputs": [],
   "source": [
    "def dehaze_denoise_deblur(img_path, preprocess):\n",
    "\n",
    "    if preprocess == 'LIME':\n",
    "        saida = LIME_main(img_path)   \n",
    "    elif preprocess == 'LLIE':\n",
    "        saida = LLIE_main(img_path)\n",
    "    elif preprocess == 'SwinIR':\n",
    "        saida = SwinIR_main(img_path)\n",
    "    elif preprocess == 'Deblur':\n",
    "        saida = deblur(img_path)\n",
    "    elif preprocess == 'ESRGAN':\n",
    "        saida = esrgan_main(img_path)\n",
    "    elif preprocess == 'GFPGAN':\n",
    "        saida = gfpgan_main(img_path)\n",
    "                \n",
    "    return saida\n",
    "    "
   ]
  },
  {
   "cell_type": "code",
   "execution_count": null,
   "id": "7976304e",
   "metadata": {},
   "outputs": [],
   "source": [
    "img_path = 'r1_Im006.png'\n",
    "\n",
    "esrgan = dehaze_denoise_deblur(img_path, 'ESRGAN')\n",
    "lime = dehaze_denoise_deblur(img_path, 'LIME')\n",
    "llie = dehaze_denoise_deblur(img_path, 'LLIE')\n",
    "swinir = dehaze_denoise_deblur(img_path, 'SwinIR')\n",
    "deblur = dehaze_denoise_deblur(img_path, 'Deblur')\n",
    "gfpgan = dehaze_denoise_deblur(img_path, 'GFPGAN')"
   ]
  },
  {
   "cell_type": "code",
   "execution_count": null,
   "id": "d23574c2",
   "metadata": {},
   "outputs": [],
   "source": [
    "fig, ax = plt.subplots(nrows=1, ncols=6, figsize=(10, 8))\n",
    "\n",
    "ax = ax.flatten()\n",
    "for a in ax:\n",
    "    ax[0].imshow(esrgan)\n",
    "    ax[0].set_title('ESRGAN', fontsize=12)\n",
    "    ax[0].set_xticks([])\n",
    "    ax[0].set_yticks([])\n",
    "\n",
    "    ax[1].imshow(lime)\n",
    "    ax[1].set_title('LIME', fontsize=12)\n",
    "    ax[1].set_xticks([])\n",
    "    ax[1].set_yticks([])\n",
    "\n",
    "    ax[2].imshow(llie)\n",
    "    ax[2].set_title('LLIE', fontsize=12)\n",
    "    ax[2].set_xticks([])\n",
    "    ax[2].set_yticks([])\n",
    "    \n",
    "    ax[3].imshow(swinir)\n",
    "    ax[3].set_title('SwinIR', fontsize=12)\n",
    "    ax[3].set_xticks([])\n",
    "    ax[3].set_yticks([])\n",
    "    \n",
    "    ax[4].imshow(deblur)\n",
    "    ax[4].set_title('Deblur', fontsize=12)\n",
    "    ax[4].set_xticks([]) \n",
    "    ax[4].set_yticks([]) \n",
    "    \n",
    "    ax[5].imshow(deblur)\n",
    "    ax[5].set_title('GFPGAN', fontsize=12)\n",
    "    ax[5].set_xticks([]) \n",
    "    ax[5].set_yticks([]) \n",
    "    \n",
    "plt.show()"
   ]
  },
  {
   "cell_type": "code",
   "execution_count": null,
   "id": "30afda88",
   "metadata": {},
   "outputs": [],
   "source": []
  },
  {
   "cell_type": "code",
   "execution_count": null,
   "id": "8f0ac033",
   "metadata": {},
   "outputs": [],
   "source": []
  }
 ],
 "metadata": {
  "kernelspec": {
   "display_name": "Python 3",
   "language": "python",
   "name": "python3"
  },
  "language_info": {
   "codemirror_mode": {
    "name": "ipython",
    "version": 3
   },
   "file_extension": ".py",
   "mimetype": "text/x-python",
   "name": "python",
   "nbconvert_exporter": "python",
   "pygments_lexer": "ipython3",
   "version": "3.8.8"
  }
 },
 "nbformat": 4,
 "nbformat_minor": 5
}
